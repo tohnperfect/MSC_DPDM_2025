{
  "nbformat": 4,
  "nbformat_minor": 0,
  "metadata": {
    "colab": {
      "provenance": [],
      "include_colab_link": true
    },
    "kernelspec": {
      "name": "python3",
      "display_name": "Python 3"
    },
    "language_info": {
      "name": "python"
    }
  },
  "cells": [
    {
      "cell_type": "markdown",
      "metadata": {
        "id": "view-in-github",
        "colab_type": "text"
      },
      "source": [
        "<a href=\"https://colab.research.google.com/github/tohnperfect/MSC_DPDM_2025/blob/main/Python101_(dpdm25).ipynb\" target=\"_parent\"><img src=\"https://colab.research.google.com/assets/colab-badge.svg\" alt=\"Open In Colab\"/></a>"
      ]
    },
    {
      "cell_type": "markdown",
      "source": [
        "# ใช้  header เพื่อจัดการ เอกสารและการ index\n",
        "\n",
        "# header1\n",
        "\n",
        "## header2\n",
        "\n",
        "### header2\n",
        "\n",
        "*body* ~~department~~\n",
        "\n"
      ],
      "metadata": {
        "id": "U2yWfZdJ0ajZ"
      }
    },
    {
      "cell_type": "markdown",
      "source": [
        "# Python101"
      ],
      "metadata": {
        "id": "VmGtCcGmO4nt"
      }
    },
    {
      "cell_type": "markdown",
      "source": [
        "## Python example (ตัวอย่าง Python)"
      ],
      "metadata": {
        "id": "JUIWH8idYBIF"
      }
    },
    {
      "cell_type": "code",
      "source": [
        "for i in ['a','b','c'] :\n",
        "  print(i,end=' ')\n",
        "  print('/')\n",
        "  for j in range(10):\n",
        "    ccc=10"
      ],
      "metadata": {
        "colab": {
          "base_uri": "https://localhost:8080/"
        },
        "id": "dyfOsfVnX8zV",
        "outputId": "53fc1846-1926-4f79-c352-3e3bfe70f12d"
      },
      "execution_count": null,
      "outputs": [
        {
          "output_type": "stream",
          "name": "stdout",
          "text": [
            "a /\n",
            "b /\n",
            "c /\n"
          ]
        }
      ]
    },
    {
      "cell_type": "code",
      "execution_count": null,
      "metadata": {
        "colab": {
          "base_uri": "https://localhost:8080/"
        },
        "id": "UkqSZC68X4cg",
        "outputId": "90027197-d257-408a-eaa8-3b1377bfcc8d"
      },
      "outputs": [
        {
          "output_type": "stream",
          "name": "stdout",
          "text": [
            "a /\n",
            "10\n",
            "10\n",
            "10\n",
            "10\n",
            "10\n",
            "10\n",
            "10\n",
            "10\n",
            "10\n",
            "10\n",
            "b /\n",
            "10\n",
            "10\n",
            "10\n",
            "10\n",
            "10\n",
            "10\n",
            "10\n",
            "10\n",
            "10\n",
            "10\n",
            "c /\n",
            "10\n",
            "10\n",
            "10\n",
            "10\n",
            "10\n",
            "10\n",
            "10\n",
            "10\n",
            "10\n",
            "10\n"
          ]
        }
      ],
      "source": [
        "for i in ['a','b','c']:\n",
        "    print(i,end=' ')\n",
        "    print('/')\n",
        "    for j in range (10):\n",
        "        ccc=10\n",
        "        print(ccc)"
      ]
    },
    {
      "cell_type": "markdown",
      "source": [
        "# Intro to string and print statement\n",
        "\n",
        "การจัดการข้อมูลประเภท String"
      ],
      "metadata": {
        "id": "sUmW9DZPX9dY"
      }
    },
    {
      "cell_type": "markdown",
      "source": [
        "\n",
        "วิธีการ define ตัวแปร\n",
        "\n",
        "```\n",
        "variable_a = ข้อมูลที่เราต้องการ\n",
        "```\n",
        "\n"
      ],
      "metadata": {
        "id": "_ulwTs5ZluYY"
      }
    },
    {
      "cell_type": "markdown",
      "source": [
        "## String(text) ข้อมูลประเภท String"
      ],
      "metadata": {
        "id": "mgTqdqC-YbVr"
      }
    },
    {
      "cell_type": "code",
      "source": [
        "text1 = \"Stat\""
      ],
      "metadata": {
        "id": "Aki52LSMYeGR"
      },
      "execution_count": null,
      "outputs": []
    },
    {
      "cell_type": "code",
      "source": [
        "text2 = 'ม.ขอนแก่น'"
      ],
      "metadata": {
        "id": "DXqpcfVVYhNf"
      },
      "execution_count": null,
      "outputs": []
    },
    {
      "cell_type": "code",
      "source": [
        "text3 = '123456'"
      ],
      "metadata": {
        "id": "crjur8eGqQtw"
      },
      "execution_count": null,
      "outputs": []
    },
    {
      "cell_type": "code",
      "source": [
        "print(text1)"
      ],
      "metadata": {
        "colab": {
          "base_uri": "https://localhost:8080/"
        },
        "id": "gYbLncc1Yhwy",
        "outputId": "0e36799a-e52d-4369-e6fb-6559e49d0b1d"
      },
      "execution_count": null,
      "outputs": [
        {
          "output_type": "stream",
          "name": "stdout",
          "text": [
            "Stat\n"
          ]
        }
      ]
    },
    {
      "cell_type": "markdown",
      "source": [
        "เราสามารถนำ String + String ได้"
      ],
      "metadata": {
        "id": "w78M592zPNl3"
      }
    },
    {
      "cell_type": "code",
      "source": [
        "text1+text2"
      ],
      "metadata": {
        "colab": {
          "base_uri": "https://localhost:8080/",
          "height": 56
        },
        "id": "mZZ3M0wbYkru",
        "outputId": "56577a4a-24a2-41f9-dcb1-de5973e81e66"
      },
      "execution_count": null,
      "outputs": [
        {
          "output_type": "execute_result",
          "data": {
            "text/plain": [
              "'Statม.ขอนแก่น'"
            ],
            "application/vnd.google.colaboratory.intrinsic+json": {
              "type": "string"
            }
          },
          "metadata": {},
          "execution_count": 11
        }
      ]
    },
    {
      "cell_type": "code",
      "source": [
        "text4 = text1+text2"
      ],
      "metadata": {
        "id": "_pKh1yPDxwmV"
      },
      "execution_count": null,
      "outputs": []
    },
    {
      "cell_type": "code",
      "source": [
        "text4"
      ],
      "metadata": {
        "colab": {
          "base_uri": "https://localhost:8080/",
          "height": 56
        },
        "id": "M0KT2O9mx_qM",
        "outputId": "817849fe-e198-476e-d2d7-7971fee0f5b4"
      },
      "execution_count": null,
      "outputs": [
        {
          "output_type": "execute_result",
          "data": {
            "text/plain": [
              "'Statม.ขอนแก่น'"
            ],
            "application/vnd.google.colaboratory.intrinsic+json": {
              "type": "string"
            }
          },
          "metadata": {},
          "execution_count": 13
        }
      ]
    },
    {
      "cell_type": "code",
      "source": [
        "print(text4)"
      ],
      "metadata": {
        "colab": {
          "base_uri": "https://localhost:8080/"
        },
        "id": "vpbsHtHDyB4g",
        "outputId": "d6d35ecb-7955-4994-bfd5-ea867af16133"
      },
      "execution_count": null,
      "outputs": [
        {
          "output_type": "stream",
          "name": "stdout",
          "text": [
            "Statม.ขอนแก่น\n"
          ]
        }
      ]
    },
    {
      "cell_type": "code",
      "source": [
        "text1 = text1+text2"
      ],
      "metadata": {
        "id": "T6NPBV3ayN2s"
      },
      "execution_count": null,
      "outputs": []
    },
    {
      "cell_type": "code",
      "source": [
        "print(text1)\n",
        "print(text2)"
      ],
      "metadata": {
        "colab": {
          "base_uri": "https://localhost:8080/"
        },
        "id": "FuL-nBIcyNsv",
        "outputId": "c19d8547-f642-46f4-9e44-f862781cc4d4"
      },
      "execution_count": null,
      "outputs": [
        {
          "output_type": "stream",
          "name": "stdout",
          "text": [
            "Statม.ขอนแก่น\n",
            "ม.ขอนแก่น\n"
          ]
        }
      ]
    },
    {
      "cell_type": "code",
      "source": [
        "int1 = 5"
      ],
      "metadata": {
        "id": "E-kEVHKhoo9j"
      },
      "execution_count": null,
      "outputs": []
    },
    {
      "cell_type": "markdown",
      "source": [
        "แต่ไม่สามารถ + ตัวเลขได้"
      ],
      "metadata": {
        "id": "z_z8I5lTPRyK"
      }
    },
    {
      "cell_type": "code",
      "source": [
        "print(text1 + int1)"
      ],
      "metadata": {
        "colab": {
          "base_uri": "https://localhost:8080/",
          "height": 158
        },
        "id": "zRL7x7KpYquR",
        "outputId": "4636c476-7ec8-4ef6-b69d-849f1b41dffb"
      },
      "execution_count": null,
      "outputs": [
        {
          "output_type": "error",
          "ename": "TypeError",
          "evalue": "can only concatenate str (not \"int\") to str",
          "traceback": [
            "\u001b[0;31m---------------------------------------------------------------------------\u001b[0m",
            "\u001b[0;31mTypeError\u001b[0m                                 Traceback (most recent call last)",
            "\u001b[0;32m/tmp/ipython-input-19-231686055.py\u001b[0m in \u001b[0;36m<cell line: 0>\u001b[0;34m()\u001b[0m\n\u001b[0;32m----> 1\u001b[0;31m \u001b[0mprint\u001b[0m\u001b[0;34m(\u001b[0m\u001b[0mtext1\u001b[0m \u001b[0;34m+\u001b[0m \u001b[0mint1\u001b[0m\u001b[0;34m)\u001b[0m\u001b[0;34m\u001b[0m\u001b[0;34m\u001b[0m\u001b[0m\n\u001b[0m",
            "\u001b[0;31mTypeError\u001b[0m: can only concatenate str (not \"int\") to str"
          ]
        }
      ]
    },
    {
      "cell_type": "code",
      "source": [
        "print(int1 + text1)"
      ],
      "metadata": {
        "colab": {
          "base_uri": "https://localhost:8080/",
          "height": 158
        },
        "id": "-llIefCzYtaH",
        "outputId": "a1d79942-3e93-4c30-d68d-769bf04ad444"
      },
      "execution_count": null,
      "outputs": [
        {
          "output_type": "error",
          "ename": "TypeError",
          "evalue": "unsupported operand type(s) for +: 'int' and 'str'",
          "traceback": [
            "\u001b[0;31m---------------------------------------------------------------------------\u001b[0m",
            "\u001b[0;31mTypeError\u001b[0m                                 Traceback (most recent call last)",
            "\u001b[0;32m/tmp/ipython-input-22-1932096956.py\u001b[0m in \u001b[0;36m<cell line: 0>\u001b[0;34m()\u001b[0m\n\u001b[0;32m----> 1\u001b[0;31m \u001b[0mprint\u001b[0m\u001b[0;34m(\u001b[0m\u001b[0mint1\u001b[0m \u001b[0;34m+\u001b[0m \u001b[0mtext1\u001b[0m\u001b[0;34m)\u001b[0m\u001b[0;34m\u001b[0m\u001b[0;34m\u001b[0m\u001b[0m\n\u001b[0m",
            "\u001b[0;31mTypeError\u001b[0m: unsupported operand type(s) for +: 'int' and 'str'"
          ]
        }
      ]
    },
    {
      "cell_type": "markdown",
      "source": [
        "## การใช้ generative ai ช่วยในการเขียน code"
      ],
      "metadata": {
        "id": "7kOdaGHD4t4h"
      }
    },
    {
      "cell_type": "code",
      "source": [
        "# prompt: สร้าง string ว่า \"Stat ม.ขอนแก่น 1234\" จากตัวแปร text1 text2 text3  พร้อมทั้งใส่ comments อธิบาย code แต่ละบรรทัด\n",
        "\n",
        "# สร้างตัวแปร text1 เก็บข้อความ \"Stat\"\n",
        "text1 = \"Stat\"\n",
        "# สร้างตัวแปร text2 เก็บข้อความ \"ม.ขอนแก่น\"\n",
        "text2 = 'ม.ขอนแก่น'\n",
        "# สร้างตัวแปร text3 เก็บข้อความ \"123456\" (เดิมเป็น string)\n",
        "text3 = '123456'\n",
        "\n",
        "# เลือกใช้แค่ตัวเลข 4 ตัวแรกจาก text3 โดยใช้ slicing\n",
        "text3_subset = text3[:4]\n",
        "\n",
        "# สร้าง string ใหม่โดยนำ text1, text2, text3_subset มารวมกัน โดยมีช่องว่างคั่นระหว่างแต่ละส่วน\n",
        "result_string = text1 + \" \" + text2 + \" \" + text3_subset\n",
        "\n",
        "# แสดงผล string ที่ได้\n",
        "result_string"
      ],
      "metadata": {
        "colab": {
          "base_uri": "https://localhost:8080/",
          "height": 56
        },
        "id": "uLsqQL0oztnG",
        "outputId": "91b7cef1-71a9-4d95-ac25-8eb3e951e061"
      },
      "execution_count": null,
      "outputs": [
        {
          "output_type": "execute_result",
          "data": {
            "text/plain": [
              "'Stat ม.ขอนแก่น 1234'"
            ],
            "application/vnd.google.colaboratory.intrinsic+json": {
              "type": "string"
            }
          },
          "metadata": {},
          "execution_count": 25
        }
      ]
    },
    {
      "cell_type": "code",
      "source": [
        "# prompt: สุ่มตัวเลข 10 ตัว ใส่ตัวแปร x\n",
        "\n",
        "import random\n",
        "x = [random.randint(0, 9) for _ in range(10)]\n"
      ],
      "metadata": {
        "id": "rymqmapxrIya"
      },
      "execution_count": null,
      "outputs": []
    },
    {
      "cell_type": "code",
      "source": [
        "print(x)"
      ],
      "metadata": {
        "colab": {
          "base_uri": "https://localhost:8080/"
        },
        "id": "FHqADOxEs49V",
        "outputId": "d73ed1b4-0f66-4b64-d28b-3ffb2bbae61b"
      },
      "execution_count": null,
      "outputs": [
        {
          "output_type": "stream",
          "name": "stdout",
          "text": [
            "[2, 2, 0, 8, 7, 7, 8, 0, 5, 1]\n"
          ]
        }
      ]
    },
    {
      "cell_type": "code",
      "source": [
        "# prompt: # prompt: สุ่มตัวเลข 100 ตัว แบบ normal distribution โดยมี mean = 6 และ SD = 2 ใส่ตัวแปร y\n",
        "\n",
        "import numpy as np\n",
        "\n",
        "y = np.random.normal(loc=6, scale=2, size=1000)"
      ],
      "metadata": {
        "id": "zXbhpEik1R8i"
      },
      "execution_count": null,
      "outputs": []
    },
    {
      "cell_type": "code",
      "source": [
        "# prompt: แสดง Histogram ของตัวแปร y เพื่อ แสดงว่า เป็นการแจกแจงแบบปกติ และมี mean=6 sd=2\n",
        "\n",
        "import numpy as np\n",
        "import matplotlib.pyplot as plt\n",
        "import seaborn as sns\n",
        "\n",
        "# แสดง Histogram ของตัวแปร y\n",
        "plt.figure(figsize=(8, 6))\n",
        "sns.histplot(y, kde=True, bins=20)\n",
        "plt.title('Histogram of y (Normal Distribution)')\n",
        "plt.xlabel('Value')\n",
        "plt.ylabel('Frequency')\n",
        "plt.grid(True)\n",
        "plt.show()\n",
        "\n",
        "# พิมพ์ค่าเฉลี่ย (mean) และค่าส่วนเบี่ยงเบนมาตรฐาน (standard deviation) ของ y\n",
        "print(f\"Mean of y: {np.mean(y):.2f}\")\n",
        "print(f\"Standard deviation of y: {np.std(y):.2f}\")\n"
      ],
      "metadata": {
        "colab": {
          "base_uri": "https://localhost:8080/",
          "height": 618
        },
        "id": "6IaN_ceP2seJ",
        "outputId": "1df41f10-5fcc-4797-947d-29ad17a1989f"
      },
      "execution_count": null,
      "outputs": [
        {
          "output_type": "display_data",
          "data": {
            "text/plain": [
              "<Figure size 800x600 with 1 Axes>"
            ],
            "image/png": "[encoded data removed]"
          },
          "metadata": {}
        },
        {
          "output_type": "stream",
          "name": "stdout",
          "text": [
            "Mean of y: 5.99\n",
            "Standard deviation of y: 1.93\n"
          ]
        }
      ]
    },
    {
      "cell_type": "code",
      "source": [
        "# prompt: แสดงว่า y เป็น normal\n",
        "\n",
        "# ทดสอบความเป็น Normal ด้วย Shapiro-Wilk Test\n",
        "from scipy import stats\n",
        "\n",
        "shapiro_test = stats.shapiro(y)\n",
        "\n",
        "print(f\"\\nShapiro-Wilk test statistic: {shapiro_test.statistic:.4f}\")\n",
        "print(f\"Shapiro-Wilk p-value: {shapiro_test.pvalue:.4f}\")\n",
        "\n",
        "# ตรวจสอบว่า p-value มากกว่า alpha (สมมติฐาน 0.05) หรือไม่\n",
        "alpha = 0.05\n",
        "if shapiro_test.pvalue > alpha:\n",
        "    print(\"เนื่องจาก p-value > 0.05, เราไม่ปฏิเสธสมมติฐานว่าง (null hypothesis)\")\n",
        "    print(\"ข้อมูล y มีการแจกแจงแบบปกติ (normal distribution).\")\n",
        "else:\n",
        "    print(\"เนื่องจาก p-value <= 0.05, เราปฏิเสธสมมติฐานว่าง (null hypothesis)\")\n",
        "    print(\"ข้อมูล y ไม่มีการแจกแจงแบบปกติ (normal distribution).\")"
      ],
      "metadata": {
        "colab": {
          "base_uri": "https://localhost:8080/"
        },
        "id": "PLweQRRB3yvl",
        "outputId": "32ddb320-8971-4002-94ed-bd608cccd2f2"
      },
      "execution_count": null,
      "outputs": [
        {
          "output_type": "stream",
          "name": "stdout",
          "text": [
            "\n",
            "Shapiro-Wilk test statistic: 0.9978\n",
            "Shapiro-Wilk p-value: 0.2168\n",
            "เนื่องจาก p-value > 0.05, เราไม่ปฏิเสธสมมติฐานว่าง (null hypothesis)\n",
            "ข้อมูล y มีการแจกแจงแบบปกติ (normal distribution).\n"
          ]
        }
      ]
    },
    {
      "cell_type": "markdown",
      "source": [
        "# Format String\n",
        "## เราสามารถจัดการ text แบบพิเศษ (ใช้ตัวแปร หรือ run code ใน text) ได้โดยการใช้\n",
        "\n",
        "```\n",
        "f'ข้อความ1 {ส่วนของ code1} ข้อความ2 {ส่วนของ code2}'\n",
        "```"
      ],
      "metadata": {
        "id": "LLAVvUnFuhe7"
      }
    },
    {
      "cell_type": "code",
      "source": [
        "f'six plus five = {6+5}'"
      ],
      "metadata": {
        "colab": {
          "base_uri": "https://localhost:8080/",
          "height": 56
        },
        "id": "C5A30Uq5ZmAB",
        "outputId": "86dcd944-a339-42ef-8c89-de0e4095e944"
      },
      "execution_count": null,
      "outputs": [
        {
          "output_type": "execute_result",
          "data": {
            "text/plain": [
              "'six plus five = 11'"
            ],
            "application/vnd.google.colaboratory.intrinsic+json": {
              "type": "string"
            }
          },
          "metadata": {},
          "execution_count": 38
        }
      ]
    },
    {
      "cell_type": "code",
      "source": [
        "f'six plus five = {6+5:.2f}' # .2f หมายถึงทำเป็นทศนิยม 2 ตำแหน่ง"
      ],
      "metadata": {
        "colab": {
          "base_uri": "https://localhost:8080/",
          "height": 56
        },
        "id": "7uE5avqdZ4Lo",
        "outputId": "9482aa65-6e75-4795-805c-54956793779f"
      },
      "execution_count": null,
      "outputs": [
        {
          "output_type": "execute_result",
          "data": {
            "text/plain": [
              "'six plus five = 11.00'"
            ],
            "application/vnd.google.colaboratory.intrinsic+json": {
              "type": "string"
            }
          },
          "metadata": {},
          "execution_count": 39
        }
      ]
    },
    {
      "cell_type": "code",
      "source": [
        "f'six plus five = {6+5:.2f}%' # % หมายถึงเป็น %"
      ],
      "metadata": {
        "colab": {
          "base_uri": "https://localhost:8080/",
          "height": 56
        },
        "id": "0bZygJghZnsP",
        "outputId": "58811f78-59ba-4901-97a2-26a07511fee8"
      },
      "execution_count": null,
      "outputs": [
        {
          "output_type": "execute_result",
          "data": {
            "text/plain": [
              "'six plus five = 11.00%'"
            ],
            "application/vnd.google.colaboratory.intrinsic+json": {
              "type": "string"
            }
          },
          "metadata": {},
          "execution_count": 40
        }
      ]
    },
    {
      "cell_type": "code",
      "source": [
        "f'six plus five = {6+5.7:.0f}%' # .0 หมายถึง ไม่เอาทศนิยม"
      ],
      "metadata": {
        "colab": {
          "base_uri": "https://localhost:8080/",
          "height": 56
        },
        "id": "YovMbr3zZo4p",
        "outputId": "bf8f08ec-d4f7-4aaa-dc17-7804cf109d68"
      },
      "execution_count": null,
      "outputs": [
        {
          "output_type": "execute_result",
          "data": {
            "text/plain": [
              "'six plus five = 12%'"
            ],
            "application/vnd.google.colaboratory.intrinsic+json": {
              "type": "string"
            }
          },
          "metadata": {},
          "execution_count": 41
        }
      ]
    },
    {
      "cell_type": "code",
      "source": [
        "f'six plus five = {6+5:03d}' #แสดงผลลัพธ์ 3 หลัก"
      ],
      "metadata": {
        "colab": {
          "base_uri": "https://localhost:8080/",
          "height": 56
        },
        "id": "ZqEvgTlFZqTi",
        "outputId": "b63d1ee8-6271-4061-9d2b-93ffa684662e"
      },
      "execution_count": null,
      "outputs": [
        {
          "output_type": "execute_result",
          "data": {
            "text/plain": [
              "'six plus five = 011'"
            ],
            "application/vnd.google.colaboratory.intrinsic+json": {
              "type": "string"
            }
          },
          "metadata": {},
          "execution_count": 42
        }
      ]
    },
    {
      "cell_type": "code",
      "source": [
        "st1 = f'six plus five = {6+5:03d}' #เก็บข้อมูลใน st1"
      ],
      "metadata": {
        "id": "Xk6sLHDoZ-5l"
      },
      "execution_count": null,
      "outputs": []
    },
    {
      "cell_type": "code",
      "source": [
        "st1 #แสดงผลออกมา"
      ],
      "metadata": {
        "colab": {
          "base_uri": "https://localhost:8080/",
          "height": 56
        },
        "id": "07IuSmjnaAbw",
        "outputId": "a57f0549-7510-48ac-ca99-1f695dbac952"
      },
      "execution_count": null,
      "outputs": [
        {
          "output_type": "execute_result",
          "data": {
            "text/plain": [
              "'six plus five = 011'"
            ],
            "application/vnd.google.colaboratory.intrinsic+json": {
              "type": "string"
            }
          },
          "metadata": {},
          "execution_count": 44
        }
      ]
    },
    {
      "cell_type": "code",
      "source": [
        "f'six plus five = {'six' + 'five'}'"
      ],
      "metadata": {
        "colab": {
          "base_uri": "https://localhost:8080/",
          "height": 124
        },
        "id": "V3xnytYr7f7w",
        "outputId": "e1f066c6-2f0a-48c0-a316-7fc77b41ed18"
      },
      "execution_count": null,
      "outputs": [
        {
          "output_type": "error",
          "ename": "SyntaxError",
          "evalue": "f-string: expecting '}' (ipython-input-48-2535454797.py, line 1)",
          "traceback": [
            "\u001b[0;36m  File \u001b[0;32m\"/tmp/ipython-input-48-2535454797.py\"\u001b[0;36m, line \u001b[0;32m1\u001b[0m\n\u001b[0;31m    f'six plus five = {'six' + 'five'}'\u001b[0m\n\u001b[0m                        ^\u001b[0m\n\u001b[0;31mSyntaxError\u001b[0m\u001b[0;31m:\u001b[0m f-string: expecting '}'\n"
          ]
        }
      ]
    },
    {
      "cell_type": "code",
      "source": [
        "f\"six plus five = {'six' + 'five'}\" # การใช้งาน quote และ double quote"
      ],
      "metadata": {
        "colab": {
          "base_uri": "https://localhost:8080/",
          "height": 56
        },
        "id": "dqECkT84wOpF",
        "outputId": "080f551b-56c0-4e66-d21a-00a63ce9c33d"
      },
      "execution_count": null,
      "outputs": [
        {
          "output_type": "execute_result",
          "data": {
            "text/plain": [
              "'six plus five = sixfive'"
            ],
            "application/vnd.google.colaboratory.intrinsic+json": {
              "type": "string"
            }
          },
          "metadata": {},
          "execution_count": 46
        }
      ]
    },
    {
      "cell_type": "markdown",
      "source": [
        "##Advanced printing\n",
        "\n",
        "(การแสดงผลแบบ Advance)"
      ],
      "metadata": {
        "id": "MEflkU7kZRHh"
      }
    },
    {
      "cell_type": "markdown",
      "source": [
        "ในภาษา python ฟังก์ชั่น ```function()``` จะมี ```(``` ```)```"
      ],
      "metadata": {
        "id": "xJclChHU8LW_"
      }
    },
    {
      "cell_type": "markdown",
      "source": [
        "## Print"
      ],
      "metadata": {
        "id": "5tvoD0Gi19oZ"
      }
    },
    {
      "cell_type": "markdown",
      "source": [
        "\n",
        "```\n",
        "print(object(s), sep=separator, end=end, file=file, flush=flush)\n",
        "```\n",
        "\n"
      ],
      "metadata": {
        "id": "uQcYWHgS9Ob9"
      }
    },
    {
      "cell_type": "markdown",
      "source": [
        "### object(s)\n",
        "\n",
        "(s) สามารถ input object ได้มากกว่า 1 ตัว"
      ],
      "metadata": {
        "id": "IBUxSqwfygLv"
      }
    },
    {
      "cell_type": "code",
      "source": [
        "print(text1,text2,text3)"
      ],
      "metadata": {
        "colab": {
          "base_uri": "https://localhost:8080/"
        },
        "id": "6a_NLUdlyIjd",
        "outputId": "ec5feb11-8663-4e47-e808-e6f06aff087c"
      },
      "execution_count": null,
      "outputs": [
        {
          "output_type": "stream",
          "name": "stdout",
          "text": [
            "Stat ม.ขอนแก่น 123456\n"
          ]
        }
      ]
    },
    {
      "cell_type": "markdown",
      "source": [
        "### separator (sep) คือการแบ่งข้อมูลด้วยคำสั่ง ทั้งช่องว่างและ /\n",
        "\n",
        "\n",
        "```\n",
        "Default is ' '\n",
        "```\n",
        "for example\n"
      ],
      "metadata": {
        "id": "VPmUaNBN-oDq"
      }
    },
    {
      "cell_type": "code",
      "source": [
        "print(text1,text2,text3) #ถ้าไม่กำหนด sep จะใช้ ' ' แบ่ง"
      ],
      "metadata": {
        "colab": {
          "base_uri": "https://localhost:8080/"
        },
        "id": "58d2OykL9uLV",
        "outputId": "24ae311d-bdc5-4b61-81f6-1f60f609a843"
      },
      "execution_count": null,
      "outputs": [
        {
          "output_type": "stream",
          "name": "stdout",
          "text": [
            "Stat ม.ขอนแก่น 123456\n"
          ]
        }
      ]
    },
    {
      "cell_type": "code",
      "source": [
        "print(text1,text2,text3, sep ='+') #กำหนด sep เป็น +"
      ],
      "metadata": {
        "colab": {
          "base_uri": "https://localhost:8080/"
        },
        "id": "JKDXwhUu98g8",
        "outputId": "8d5cafc6-697e-4519-9ec1-d75882bb6e47"
      },
      "execution_count": null,
      "outputs": [
        {
          "output_type": "stream",
          "name": "stdout",
          "text": [
            "Stat+ม.ขอนแก่น+123456\n"
          ]
        }
      ]
    },
    {
      "cell_type": "markdown",
      "source": [
        "### end (end) ไว้สำหรับการขึ้นบรรทัดใหม่หรือการเพิ่มตัวอักษร\n",
        "\n",
        "\n",
        "\n",
        "```\n",
        "Default is '\\n'\n",
        "```\n",
        "for example\n",
        "\n",
        "\n"
      ],
      "metadata": {
        "id": "SjbKTyhO-sXc"
      }
    },
    {
      "cell_type": "code",
      "source": [
        "print('stat')\n",
        "print('KKU')"
      ],
      "metadata": {
        "colab": {
          "base_uri": "https://localhost:8080/"
        },
        "id": "kBaAmiq_-Dtl",
        "outputId": "764c365f-0e5e-44ad-d0a2-465362826ccb"
      },
      "execution_count": null,
      "outputs": [
        {
          "output_type": "stream",
          "name": "stdout",
          "text": [
            "stat\n",
            "KKU\n"
          ]
        }
      ]
    },
    {
      "cell_type": "code",
      "source": [
        "print('stat',end='+-+')\n",
        "print('KKU')"
      ],
      "metadata": {
        "colab": {
          "base_uri": "https://localhost:8080/"
        },
        "id": "PUhgDUJC-mGu",
        "outputId": "d2f7cd97-fbfb-4e9b-ee3a-defddd41cd20"
      },
      "execution_count": null,
      "outputs": [
        {
          "output_type": "stream",
          "name": "stdout",
          "text": [
            "stat+-+KKU\n"
          ]
        }
      ]
    },
    {
      "cell_type": "markdown",
      "source": [
        "# Variable (ตัวแปร)\n",
        "\n",
        "ใช้สำหรับการเก็บข้อมูลไว้ในตัวแปรนั้นๆไว้"
      ],
      "metadata": {
        "id": "pnuKktZj_aYP"
      }
    },
    {
      "cell_type": "markdown",
      "source": [
        "### ข้อกำหนดในการตั้งชื่อตัวแปร\n",
        "1. ตั้งให้สื่อความหมาย (แนะนำ)\n",
        "2. ตั้งให้เป็นภาษาอังกฤษ\n",
        "3. ใช้ตัวเลขผสมกับตัวหนังสือได้ แต่ห้ามขึ้นต้นด้วยตัวเลข\n",
        "4. ห้ามมีเว้นวรรคในชื่อตัวแปร\n",
        "5. ตัวใหญ่ ตัวเล็กค่าไม่เท่ากัน\n",
        "\n",
        "\n",
        "## variable naming rules\n",
        "1. Try to use meaningful word\n",
        "2. Do it in English\n",
        "3. You can use number in variable name the name connot atart with number\n",
        "4. there should be no space in the name\n",
        "5. variable name is case-sensitive (Abc is not equal to ABC)"
      ],
      "metadata": {
        "id": "Y-WakksGY-qa"
      }
    },
    {
      "cell_type": "code",
      "source": [
        "a = 5 #int\n",
        "print(a)"
      ],
      "metadata": {
        "colab": {
          "base_uri": "https://localhost:8080/"
        },
        "id": "sG2g9sdjY43v",
        "outputId": "cc1025c1-df87-4776-cf25-e62cd710cc29"
      },
      "execution_count": null,
      "outputs": [
        {
          "output_type": "stream",
          "name": "stdout",
          "text": [
            "5\n"
          ]
        }
      ]
    },
    {
      "cell_type": "code",
      "source": [
        "b = 5.7 #float\n",
        "print(b)"
      ],
      "metadata": {
        "colab": {
          "base_uri": "https://localhost:8080/"
        },
        "id": "4USxTM0QY6fq",
        "outputId": "a16f8fca-3f87-42de-8ec9-1dec36844a3e"
      },
      "execution_count": null,
      "outputs": [
        {
          "output_type": "stream",
          "name": "stdout",
          "text": [
            "5.7\n"
          ]
        }
      ]
    },
    {
      "cell_type": "code",
      "source": [
        "c = a-b\n",
        "print(c)"
      ],
      "metadata": {
        "colab": {
          "base_uri": "https://localhost:8080/"
        },
        "id": "DNM5bnjtY7yJ",
        "outputId": "cc67449a-a0e4-46cf-cfe6-71cc5d7eb77a"
      },
      "execution_count": null,
      "outputs": [
        {
          "output_type": "stream",
          "name": "stdout",
          "text": [
            "-0.7000000000000002\n"
          ]
        }
      ]
    },
    {
      "cell_type": "markdown",
      "source": [
        "# List() โครงสร้างข้อมูล"
      ],
      "metadata": {
        "id": "8OONbOe5gqm3"
      }
    },
    {
      "cell_type": "code",
      "source": [
        "list_a = [1,2,3]"
      ],
      "metadata": {
        "id": "hE_MrofBg3vQ"
      },
      "execution_count": null,
      "outputs": []
    },
    {
      "cell_type": "code",
      "source": [
        "list_a"
      ],
      "metadata": {
        "colab": {
          "base_uri": "https://localhost:8080/"
        },
        "id": "YUIpyXwnAkT2",
        "outputId": "dd82fe43-72fe-4afb-f5f7-6f03f1c971e2"
      },
      "execution_count": null,
      "outputs": [
        {
          "output_type": "execute_result",
          "data": {
            "text/plain": [
              "[1, 2, 3]"
            ]
          },
          "metadata": {},
          "execution_count": 68
        }
      ]
    },
    {
      "cell_type": "code",
      "source": [
        "list_b = list()"
      ],
      "metadata": {
        "id": "7jJcmv85hb88"
      },
      "execution_count": null,
      "outputs": []
    },
    {
      "cell_type": "code",
      "source": [
        "list_b"
      ],
      "metadata": {
        "colab": {
          "base_uri": "https://localhost:8080/"
        },
        "id": "Qh8LZ9KfhggE",
        "outputId": "300823c0-9065-4721-eaf3-fdf646490614"
      },
      "execution_count": null,
      "outputs": [
        {
          "output_type": "execute_result",
          "data": {
            "text/plain": [
              "[]"
            ]
          },
          "metadata": {},
          "execution_count": 74
        }
      ]
    },
    {
      "cell_type": "code",
      "source": [
        "list_b.append(1) #append คือการเพิ่มข้อมูลใน list\n",
        "print(list_b)\n",
        "list_b.append(2)\n",
        "print(list_b)"
      ],
      "metadata": {
        "colab": {
          "base_uri": "https://localhost:8080/"
        },
        "id": "ULMnRasdhx-5",
        "outputId": "a1f673d1-ba99-4414-e540-0020d9f19bf7"
      },
      "execution_count": null,
      "outputs": [
        {
          "output_type": "stream",
          "name": "stdout",
          "text": [
            "[1]\n",
            "[1, 2]\n"
          ]
        }
      ]
    },
    {
      "cell_type": "code",
      "source": [
        "list_b.append('f')\n",
        "list_b.append([12,6,'a'])\n",
        "list_b"
      ],
      "metadata": {
        "colab": {
          "base_uri": "https://localhost:8080/"
        },
        "id": "2Iv-A55wiL7x",
        "outputId": "29ed4644-b24c-42e3-a1e2-607a3424c70d"
      },
      "execution_count": null,
      "outputs": [
        {
          "output_type": "execute_result",
          "data": {
            "text/plain": [
              "[1, 2, 'f', [12, 6, 'a']]"
            ]
          },
          "metadata": {},
          "execution_count": 76
        }
      ]
    },
    {
      "cell_type": "code",
      "source": [
        "list_b[3] #index"
      ],
      "metadata": {
        "colab": {
          "base_uri": "https://localhost:8080/"
        },
        "id": "leSTP3jlinfG",
        "outputId": "c417ce00-817b-4ee8-bb14-d426089ac677"
      },
      "execution_count": null,
      "outputs": [
        {
          "output_type": "execute_result",
          "data": {
            "text/plain": [
              "[12, 6, 'a']"
            ]
          },
          "metadata": {},
          "execution_count": 77
        }
      ]
    },
    {
      "cell_type": "markdown",
      "source": [
        "## list slicing :"
      ],
      "metadata": {
        "id": "yGY1fWM2C8r8"
      }
    },
    {
      "cell_type": "code",
      "source": [
        "list_x = [1,2,3,4,5,'ax','by','cz']"
      ],
      "metadata": {
        "id": "ufepQ2AHCxrl"
      },
      "execution_count": null,
      "outputs": []
    },
    {
      "cell_type": "code",
      "source": [
        "list_x[4:8]"
      ],
      "metadata": {
        "colab": {
          "base_uri": "https://localhost:8080/"
        },
        "id": "euXMxfOaCxoZ",
        "outputId": "740e73b5-b944-4bf1-f135-7db300b49661"
      },
      "execution_count": null,
      "outputs": [
        {
          "output_type": "execute_result",
          "data": {
            "text/plain": [
              "[5, 'ax', 'by', 'cz']"
            ]
          },
          "metadata": {},
          "execution_count": 79
        }
      ]
    },
    {
      "cell_type": "code",
      "source": [
        "list_x[4:7]"
      ],
      "metadata": {
        "colab": {
          "base_uri": "https://localhost:8080/"
        },
        "id": "UDd8EtSRCxlA",
        "outputId": "9512b177-7e67-49a8-d572-3c7d94c39800"
      },
      "execution_count": null,
      "outputs": [
        {
          "output_type": "execute_result",
          "data": {
            "text/plain": [
              "[5, 'ax', 'by']"
            ]
          },
          "metadata": {},
          "execution_count": 80
        }
      ]
    },
    {
      "cell_type": "code",
      "source": [
        "list_x[4:7:2]"
      ],
      "metadata": {
        "colab": {
          "base_uri": "https://localhost:8080/"
        },
        "id": "m0627JoqCxhX",
        "outputId": "21b360a4-4571-4788-e9bd-13af1ece98f0"
      },
      "execution_count": null,
      "outputs": [
        {
          "output_type": "execute_result",
          "data": {
            "text/plain": [
              "[5, 'by']"
            ]
          },
          "metadata": {},
          "execution_count": 81
        }
      ]
    },
    {
      "cell_type": "markdown",
      "source": [
        "####```integer * char```mean multiple copies of the char หรือสามารถคูณตัวอักษรเพื่อแสดงผลเท่าผลคูณได้"
      ],
      "metadata": {
        "id": "Oni4-2pSAaFj"
      }
    },
    {
      "cell_type": "code",
      "source": [
        "[1,2,3] + [4,5,6]"
      ],
      "metadata": {
        "colab": {
          "base_uri": "https://localhost:8080/"
        },
        "id": "esIzIycqwWYG",
        "outputId": "e7b9b51c-35ab-4e31-f386-e33349a72834"
      },
      "execution_count": 1,
      "outputs": [
        {
          "output_type": "execute_result",
          "data": {
            "text/plain": [
              "[1, 2, 3, 4, 5, 6]"
            ]
          },
          "metadata": {},
          "execution_count": 1
        }
      ]
    },
    {
      "cell_type": "code",
      "source": [
        "print(5*[1,2,3])"
      ],
      "metadata": {
        "id": "6NkunNCzElRh",
        "colab": {
          "base_uri": "https://localhost:8080/"
        },
        "outputId": "d87c5103-436e-4f70-a8cc-caaa2f5d8b2b"
      },
      "execution_count": 2,
      "outputs": [
        {
          "output_type": "stream",
          "name": "stdout",
          "text": [
            "[1, 2, 3, 1, 2, 3, 1, 2, 3, 1, 2, 3, 1, 2, 3]\n"
          ]
        }
      ]
    },
    {
      "cell_type": "markdown",
      "source": [
        "# Dictionary ```{}```"
      ],
      "metadata": {
        "id": "HtSGqOhbEhLw"
      }
    },
    {
      "cell_type": "code",
      "source": [
        "dict_a = {'ant':27, 'bee':32, 'cat':79}"
      ],
      "metadata": {
        "id": "3Qk2ITiNwATl"
      },
      "execution_count": 4,
      "outputs": []
    },
    {
      "cell_type": "code",
      "source": [
        "dict_a['bee']"
      ],
      "metadata": {
        "colab": {
          "base_uri": "https://localhost:8080/"
        },
        "id": "kYOBZy_vwAP8",
        "outputId": "0f713dde-867f-438f-e550-da45bac61b4e"
      },
      "execution_count": 5,
      "outputs": [
        {
          "output_type": "execute_result",
          "data": {
            "text/plain": [
              "32"
            ]
          },
          "metadata": {},
          "execution_count": 5
        }
      ]
    },
    {
      "cell_type": "code",
      "source": [
        "dict_a['dog'] = 70"
      ],
      "metadata": {
        "id": "tHC4Dv_ay5Gl"
      },
      "execution_count": 7,
      "outputs": []
    },
    {
      "cell_type": "code",
      "source": [
        "dict_a"
      ],
      "metadata": {
        "colab": {
          "base_uri": "https://localhost:8080/"
        },
        "id": "jMztfE6py-tY",
        "outputId": "868f355c-b446-428a-9ba4-41305079bd67"
      },
      "execution_count": 8,
      "outputs": [
        {
          "output_type": "execute_result",
          "data": {
            "text/plain": [
              "{'ant': 27, 'bee': 32, 'cat': 79, 'dog': 70}"
            ]
          },
          "metadata": {},
          "execution_count": 8
        }
      ]
    },
    {
      "cell_type": "code",
      "source": [
        "dict_a['ant'] = 13"
      ],
      "metadata": {
        "id": "C5iQOCPJzDB7"
      },
      "execution_count": 9,
      "outputs": []
    },
    {
      "cell_type": "code",
      "source": [
        "dict_a"
      ],
      "metadata": {
        "colab": {
          "base_uri": "https://localhost:8080/"
        },
        "id": "fSrqysp3zNSL",
        "outputId": "a7fae613-09f7-41a1-fadd-7218f536a2d8"
      },
      "execution_count": 10,
      "outputs": [
        {
          "output_type": "execute_result",
          "data": {
            "text/plain": [
              "{'ant': 13, 'bee': 32, 'cat': 79, 'dog': 70}"
            ]
          },
          "metadata": {},
          "execution_count": 10
        }
      ]
    },
    {
      "cell_type": "markdown",
      "source": [
        "## เวลาทำงานจริง"
      ],
      "metadata": {
        "id": "JF8zNaaJytBI"
      }
    },
    {
      "cell_type": "code",
      "source": [
        "dict_b = {}"
      ],
      "metadata": {
        "id": "6zhRKTZhwALk"
      },
      "execution_count": 6,
      "outputs": []
    },
    {
      "cell_type": "code",
      "source": [
        "if 'ant' not in dict_a:\n",
        "  dict_a['ant'] = 27"
      ],
      "metadata": {
        "id": "NhBcbNX5CxZ3"
      },
      "execution_count": 11,
      "outputs": []
    },
    {
      "cell_type": "code",
      "source": [
        "dict_a"
      ],
      "metadata": {
        "colab": {
          "base_uri": "https://localhost:8080/"
        },
        "id": "c_Wbc9pqz350",
        "outputId": "d70769a0-f405-4162-a777-98d8cd0bafae"
      },
      "execution_count": 12,
      "outputs": [
        {
          "output_type": "execute_result",
          "data": {
            "text/plain": [
              "{'ant': 13, 'bee': 32, 'cat': 79, 'dog': 70}"
            ]
          },
          "metadata": {},
          "execution_count": 12
        }
      ]
    },
    {
      "cell_type": "markdown",
      "source": [
        "# For วนซ้ำ"
      ],
      "metadata": {
        "id": "WzKNF7tQgxxC"
      }
    },
    {
      "cell_type": "markdown",
      "source": [
        "```\n",
        "for ตัวแปรแทนสมาชิกแต่ละตัว in list:\n",
        "    ทำอะไรซักอย่าง1\n",
        "    ทำอะไรซักอย่าง2\n",
        "```"
      ],
      "metadata": {
        "id": "XB9qYuMn1BJw"
      }
    },
    {
      "cell_type": "code",
      "source": [
        "for x in ['ข้าวผัด','ก๊วยเตี๋ยว','ส้มตำ','พิซซ่า']:\n",
        "    text = f'ฉันชอบกิน{x}'\n",
        "    print(text)"
      ],
      "metadata": {
        "colab": {
          "base_uri": "https://localhost:8080/"
        },
        "id": "2eMdFKul2bqM",
        "outputId": "a09e0ec2-ac96-4625-b13a-d862b449984b"
      },
      "execution_count": 13,
      "outputs": [
        {
          "output_type": "stream",
          "name": "stdout",
          "text": [
            "ฉันชอบกินข้าวผัด\n",
            "ฉันชอบกินก๊วยเตี๋ยว\n",
            "ฉันชอบกินส้มตำ\n",
            "ฉันชอบกินพิซซ่า\n"
          ]
        }
      ]
    },
    {
      "cell_type": "markdown",
      "source": [
        "## วนโดย print index และ ค่า"
      ],
      "metadata": {
        "id": "5SN0PaO53V15"
      }
    },
    {
      "cell_type": "markdown",
      "source": [
        "# quiz 3\n",
        "print\n",
        "\n",
        "ฉันชอบกิน 1. ข้าวผัด\n",
        "\n",
        "ฉันชอบกิน 2. ก๊วยเตี๋ยว\n",
        "\n",
        "ฉันชอบกิน 3. ส้มตำ\n",
        "\n",
        "ฉันชอบกิน 4. พิซซ่า\n",
        "\n",
        "โดยห้ามใช้ function อื่นๆ และความรู้ที่ไม่เคยเรียนมา"
      ],
      "metadata": {
        "id": "N4h6lXUy3hny"
      }
    },
    {
      "cell_type": "code",
      "source": [
        "index = 1\n",
        "for x in ['ข้าวผัด','ก๊วยเตี๋ยว','ส้มตำ','พิซซ่า']:\n",
        "    text = f'ฉันชอบกิน {index}.{x}'\n",
        "    print(text)\n",
        "    index += 1"
      ],
      "metadata": {
        "colab": {
          "base_uri": "https://localhost:8080/"
        },
        "id": "LVo7Of8X3hH0",
        "outputId": "7f0110b2-3b58-4f5f-a7fb-fa89469a48e8"
      },
      "execution_count": 14,
      "outputs": [
        {
          "output_type": "stream",
          "name": "stdout",
          "text": [
            "ฉันชอบกิน 1.ข้าวผัด\n",
            "ฉันชอบกิน 2.ก๊วยเตี๋ยว\n",
            "ฉันชอบกิน 3.ส้มตำ\n",
            "ฉันชอบกิน 4.พิซซ่า\n"
          ]
        }
      ]
    },
    {
      "cell_type": "code",
      "source": [
        "for index,x in enumerate(['ข้าวผัด','ก๊วยเตี๋ยว','ส้มตำ','พิซซ่า']):\n",
        "    text = f'ฉันชอบกิน {index+1}.{x}'\n",
        "    print(text)"
      ],
      "metadata": {
        "colab": {
          "base_uri": "https://localhost:8080/"
        },
        "id": "M4qytRxp3VOp",
        "outputId": "046b527d-30e0-42d5-c8fe-504d7902d395"
      },
      "execution_count": 16,
      "outputs": [
        {
          "output_type": "stream",
          "name": "stdout",
          "text": [
            "ฉันชอบกิน 1.ข้าวผัด\n",
            "ฉันชอบกิน 2.ก๊วยเตี๋ยว\n",
            "ฉันชอบกิน 3.ส้มตำ\n",
            "ฉันชอบกิน 4.พิซซ่า\n"
          ]
        }
      ]
    },
    {
      "cell_type": "markdown",
      "source": [
        "## Loop in Loop"
      ],
      "metadata": {
        "id": "qgNFnXu8-4KP"
      }
    },
    {
      "cell_type": "markdown",
      "source": [
        "print แม่สูตรคูณ แม่ 2-5"
      ],
      "metadata": {
        "id": "nS2l35K---lG"
      }
    },
    {
      "cell_type": "code",
      "source": [
        "for x in range(2,6):\n",
        "    print(f'แม่สูตรคูณแม่{x}')\n",
        "    for y in range(1,13):\n",
        "        print(f'{x}x{y}={x*y}')"
      ],
      "metadata": {
        "colab": {
          "base_uri": "https://localhost:8080/"
        },
        "id": "otQEPxT_-yVR",
        "outputId": "059db329-2c3d-4efe-f707-99efd97f306d"
      },
      "execution_count": 17,
      "outputs": [
        {
          "output_type": "stream",
          "name": "stdout",
          "text": [
            "แม่สูตรคูณแม่2\n",
            "2x1=2\n",
            "2x2=4\n",
            "2x3=6\n",
            "2x4=8\n",
            "2x5=10\n",
            "2x6=12\n",
            "2x7=14\n",
            "2x8=16\n",
            "2x9=18\n",
            "2x10=20\n",
            "2x11=22\n",
            "2x12=24\n",
            "แม่สูตรคูณแม่3\n",
            "3x1=3\n",
            "3x2=6\n",
            "3x3=9\n",
            "3x4=12\n",
            "3x5=15\n",
            "3x6=18\n",
            "3x7=21\n",
            "3x8=24\n",
            "3x9=27\n",
            "3x10=30\n",
            "3x11=33\n",
            "3x12=36\n",
            "แม่สูตรคูณแม่4\n",
            "4x1=4\n",
            "4x2=8\n",
            "4x3=12\n",
            "4x4=16\n",
            "4x5=20\n",
            "4x6=24\n",
            "4x7=28\n",
            "4x8=32\n",
            "4x9=36\n",
            "4x10=40\n",
            "4x11=44\n",
            "4x12=48\n",
            "แม่สูตรคูณแม่5\n",
            "5x1=5\n",
            "5x2=10\n",
            "5x3=15\n",
            "5x4=20\n",
            "5x5=25\n",
            "5x6=30\n",
            "5x7=35\n",
            "5x8=40\n",
            "5x9=45\n",
            "5x10=50\n",
            "5x11=55\n",
            "5x12=60\n"
          ]
        }
      ]
    },
    {
      "cell_type": "markdown",
      "source": [
        "# Quiz 4\n",
        "\n",
        "วนลูป print output ดังนี้\n",
        "\n",
        "0\n",
        "\n",
        "1 1\n",
        "\n",
        "2 3 5\n",
        "\n",
        "8 13 21 34"
      ],
      "metadata": {
        "id": "6T1p00jYATM8"
      }
    },
    {
      "cell_type": "code",
      "source": [],
      "metadata": {
        "id": "AxX1fDjWAPOk"
      },
      "execution_count": 17,
      "outputs": []
    },
    {
      "cell_type": "markdown",
      "source": [
        "# Condition"
      ],
      "metadata": {
        "id": "ENDF0Qh90yHG"
      }
    },
    {
      "cell_type": "markdown",
      "source": [
        "```\n",
        "if การทดสอบเงื่อนไข:\n",
        "    ทำอะไรซักอย่าง1\n",
        "    ทำอะไรซักอย่าง2\n",
        "elif การทดสอบเงื่อนไข2:\n",
        "    ทำอะไรซักอย่าง1\n",
        "    ทำอะไรซักอย่าง2\n",
        "else:\n",
        "    ทำอะไรซักอย่าง1\n",
        "    ทำอะไรซักอย่าง2\n",
        "```"
      ],
      "metadata": {
        "id": "4xQv0CxzEzDy"
      }
    },
    {
      "cell_type": "markdown",
      "source": [
        "## Operation ที่ ให้ output เป็น boolean (True, False)\n",
        "\n",
        "``` >, <, ==, !=, >=, <=, in, |, &, not```"
      ],
      "metadata": {
        "id": "Uho_AHM_FngQ"
      }
    },
    {
      "cell_type": "code",
      "source": [
        "b1 = 2 > 5\n",
        "print(b1)"
      ],
      "metadata": {
        "colab": {
          "base_uri": "https://localhost:8080/"
        },
        "id": "L7C6AcjFF7U0",
        "outputId": "62c451fb-a659-4d59-b610-97f9ca68167a"
      },
      "execution_count": 22,
      "outputs": [
        {
          "output_type": "stream",
          "name": "stdout",
          "text": [
            "False\n"
          ]
        }
      ]
    },
    {
      "cell_type": "code",
      "source": [
        "b2 = 3 in [1,3,7]\n",
        "print(b2)"
      ],
      "metadata": {
        "colab": {
          "base_uri": "https://localhost:8080/"
        },
        "id": "iqlgvVdjGDWw",
        "outputId": "000b617d-780f-412a-81c0-0818927cda92"
      },
      "execution_count": 21,
      "outputs": [
        {
          "output_type": "stream",
          "name": "stdout",
          "text": [
            "True\n"
          ]
        }
      ]
    },
    {
      "cell_type": "code",
      "source": [
        "b1 | b2"
      ],
      "metadata": {
        "colab": {
          "base_uri": "https://localhost:8080/"
        },
        "id": "4pyRRJm5GSf7",
        "outputId": "b6249b3c-f259-4ecd-c6d6-c0e7b0e4361b"
      },
      "execution_count": 24,
      "outputs": [
        {
          "output_type": "execute_result",
          "data": {
            "text/plain": [
              "True"
            ]
          },
          "metadata": {},
          "execution_count": 24
        }
      ]
    },
    {
      "cell_type": "code",
      "source": [
        "b1 & b2"
      ],
      "metadata": {
        "colab": {
          "base_uri": "https://localhost:8080/"
        },
        "id": "0zyi4Qt7GZjw",
        "outputId": "41a90eb2-03ec-44ef-d603-7e0779e7160b"
      },
      "execution_count": 25,
      "outputs": [
        {
          "output_type": "execute_result",
          "data": {
            "text/plain": [
              "False"
            ]
          },
          "metadata": {},
          "execution_count": 25
        }
      ]
    },
    {
      "cell_type": "markdown",
      "source": [
        "Check if all members are even numbers"
      ],
      "metadata": {
        "id": "c_UpSNNKGmzd"
      }
    },
    {
      "cell_type": "code",
      "source": [
        "a = [2, 4, 10, 7, 24]\n",
        "\n",
        "for x in a:\n",
        "    if x % 2 != 0:\n",
        "        print('Not all members are even numbers')\n",
        "        #break"
      ],
      "metadata": {
        "colab": {
          "base_uri": "https://localhost:8080/"
        },
        "id": "4X49FZVFGmNH",
        "outputId": "4c688081-a9c4-42ef-a768-1f7785e8def7"
      },
      "execution_count": 26,
      "outputs": [
        {
          "output_type": "stream",
          "name": "stdout",
          "text": [
            "Not all members are even numbers\n"
          ]
        }
      ]
    },
    {
      "cell_type": "markdown",
      "source": [
        "# Function"
      ],
      "metadata": {
        "id": "Ds2yHCzk0xK8"
      }
    },
    {
      "cell_type": "code",
      "source": [],
      "metadata": {
        "id": "jUICI1420sKX"
      },
      "execution_count": null,
      "outputs": []
    },
    {
      "cell_type": "code",
      "source": [],
      "metadata": {
        "id": "yql8BVpA0r_M"
      },
      "execution_count": null,
      "outputs": []
    },
    {
      "cell_type": "code",
      "source": [],
      "metadata": {
        "id": "XutOG-WS015V"
      },
      "execution_count": null,
      "outputs": []
    },
    {
      "cell_type": "code",
      "source": [],
      "metadata": {
        "id": "xQkYbfYU012a"
      },
      "execution_count": null,
      "outputs": []
    },
    {
      "cell_type": "code",
      "source": [],
      "metadata": {
        "id": "vsJAknAB01zT"
      },
      "execution_count": null,
      "outputs": []
    },
    {
      "cell_type": "code",
      "source": [],
      "metadata": {
        "id": "Fsg0QW9q01v5"
      },
      "execution_count": null,
      "outputs": []
    },
    {
      "cell_type": "code",
      "source": [],
      "metadata": {
        "id": "lVOJ43Kq01sh"
      },
      "execution_count": null,
      "outputs": []
    },
    {
      "cell_type": "markdown",
      "source": [],
      "metadata": {
        "id": "pGLXJ4F6jPyZ"
      }
    }
  ]
}